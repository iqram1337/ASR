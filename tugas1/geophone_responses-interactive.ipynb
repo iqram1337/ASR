{
 "cells": [
  {
   "cell_type": "code",
   "execution_count": 1,
   "id": "d6876ef6",
   "metadata": {},
   "outputs": [],
   "source": [
    "import matplotlib.pyplot as plt\n",
    "import numpy as np\n",
    "from scipy import signal\n",
    "from ipywidgets import interact\n",
    "import warnings\n",
    "\n",
    "plt.style.use(\"bmh\")"
   ]
  },
  {
   "cell_type": "code",
   "execution_count": 3,
   "id": "c955a8b3",
   "metadata": {},
   "outputs": [
    {
     "data": {
      "application/vnd.jupyter.widget-view+json": {
       "model_id": "db3d4de2d54d41cbb1cc3806f09a1f4e",
       "version_major": 2,
       "version_minor": 0
      },
      "text/plain": [
       "interactive(children=(IntSlider(value=5, description='d', max=15, min=-5), IntSlider(value=6, description='N',…"
      ]
     },
     "metadata": {},
     "output_type": "display_data"
    }
   ],
   "source": [
    "%matplotlib inline\n",
    "\n",
    "@interact\n",
    "def saladass(d=5, N=6):\n",
    "    k = np.linspace(0, 0.2, 1000)\n",
    "    #w,h = signal.freqz(d,N)\n",
    "\n",
    "    amp_resp = 20*np.log(abs((np.sin(np.pi*d*N*k))/(N*np.sin(np.pi*d*k))))\n",
    "    \n",
    "    plt.figure(figsize=((8,6)))\n",
    "\n",
    "    plt.plot(k, amp_resp)\n",
    "    \n",
    "    plt.title(f\"N:{N}\", size=18)\n",
    "    \n",
    "    plt.xlabel(\"Wave number (K)\")\n",
    "    plt.ylabel(\"Amplitude Response (dB)\")\n",
    "    plt.ylim(bottom=-100, top=0)\n",
    "    plt.xlim(left=0, right=0.2)\n",
    "    \n",
    "    plt.show()\n",
    "    \n",
    "    warnings.filterwarnings(action='ignore', category=RuntimeWarning)\n",
    "    return plt.figure()\n",
    "\n"
   ]
  },
  {
   "cell_type": "code",
   "execution_count": null,
   "id": "32acb63e",
   "metadata": {},
   "outputs": [],
   "source": []
  }
 ],
 "metadata": {
  "kernelspec": {
   "display_name": "Python 3 (ipykernel)",
   "language": "python",
   "name": "python3"
  },
  "language_info": {
   "codemirror_mode": {
    "name": "ipython",
    "version": 3
   },
   "file_extension": ".py",
   "mimetype": "text/x-python",
   "name": "python",
   "nbconvert_exporter": "python",
   "pygments_lexer": "ipython3",
   "version": "3.9.5"
  }
 },
 "nbformat": 4,
 "nbformat_minor": 5
}
